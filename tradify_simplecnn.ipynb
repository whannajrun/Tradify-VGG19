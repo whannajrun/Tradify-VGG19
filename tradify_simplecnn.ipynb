{
 "cells": [
  {
   "cell_type": "code",
   "execution_count": 7,
   "id": "44f12d7a-2778-49ec-aa53-92e4a9504229",
   "metadata": {},
   "outputs": [],
   "source": [
    "from cutmix_keras import CutMixImageDataGenerator\n",
    "import matplotlib.pyplot as plt\n",
    "import numpy as np\n",
    "import os\n",
    "import zipfile\n",
    "import tensorflow as tf"
   ]
  },
  {
   "cell_type": "code",
   "execution_count": 8,
   "id": "2a58eff1-1ce4-4025-8be8-aae3fd8633a9",
   "metadata": {},
   "outputs": [],
   "source": [
    "local_zip = 'jajanan_indonesia_final.zip'\n",
    "\n",
    "zip_ref = zipfile.ZipFile(local_zip, 'r')\n",
    "\n",
    "zip_ref.extractall('./')\n",
    "zip_ref.close()"
   ]
  },
  {
   "cell_type": "code",
   "execution_count": 9,
   "id": "65842142-ca4b-42a5-ad0a-e73ccb687492",
   "metadata": {},
   "outputs": [],
   "source": [
    "base_dir = './jajanan_indonesia_final'\n",
    "\n",
    "train_dir = os.path.join(base_dir, 'train')\n",
    "validation_dir = os.path.join(base_dir, 'validation')\n",
    "test_dir = os.path.join(base_dir, 'test')"
   ]
  },
  {
   "cell_type": "code",
   "execution_count": 10,
   "id": "f90667b8-3fd9-46ad-8cc3-da5c2b850ac7",
   "metadata": {},
   "outputs": [],
   "source": [
    "from tensorflow.keras.preprocessing.image import ImageDataGenerator\n",
    "\n",
    "IMG_SIZE = 64\n",
    "\n",
    "def train_val_generators(dir_train, dir_validation, dir_test):\n",
    "    train_datagen = ImageDataGenerator(rescale = 1./255.,\n",
    "                                       rotation_range=40,\n",
    "                                       width_shift_range=.2,\n",
    "                                       height_shift_range=.2,\n",
    "                                       shear_range=.2,\n",
    "                                       zoom_range=.2,\n",
    "                                       horizontal_flip=True,\n",
    "                                       fill_mode='nearest')\n",
    "    \n",
    "    train_generator1 = train_datagen.flow_from_directory(dir_train, batch_size=16, \n",
    "                                                        class_mode = 'categorical', \n",
    "                                                        seed=100, shuffle=True,\n",
    "                                                        target_size=(64, 64))\n",
    "    train_generator2 = train_datagen.flow_from_directory(dir_train, batch_size=16, \n",
    "                                                        class_mode = 'categorical', \n",
    "                                                        seed=100, shuffle=True,\n",
    "                                                        target_size=(64, 64))\n",
    "    train_generator = CutMixImageDataGenerator(\n",
    "    generator1=train_generator1,\n",
    "    generator2=train_generator2,\n",
    "    img_size=IMG_SIZE,\n",
    "    batch_size=16)\n",
    "    \n",
    "    validation_datagen = ImageDataGenerator(rescale = 1./255.)\n",
    "    validation_generator = validation_datagen.flow_from_directory(dir_validation, batch_size=16,\n",
    "                                                                  class_mode = 'categorical', target_size=(64, 64))\n",
    "    test_datagen = ImageDataGenerator(rescale = 1./255)\n",
    "    test_generator = test_datagen.flow_from_directory(dir_test, batch_size=16,\n",
    "                                                      class_mode='categorical', target_size=(64,64))\n",
    "    \n",
    "    return train_generator, validation_generator, test_generator"
   ]
  },
  {
   "cell_type": "code",
   "execution_count": 11,
   "id": "6f363cb4-67fd-4ba0-a2bb-138b8ad67d0b",
   "metadata": {},
   "outputs": [
    {
     "name": "stdout",
     "output_type": "stream",
     "text": [
      "Found 678 images belonging to 8 classes.\n",
      "Found 678 images belonging to 8 classes.\n",
      "Found 155 images belonging to 8 classes.\n",
      "Found 138 images belonging to 8 classes.\n"
     ]
    }
   ],
   "source": [
    "train_generator, validation_generator, test_generator = train_val_generators(train_dir, validation_dir, test_dir)"
   ]
  },
  {
   "cell_type": "code",
   "execution_count": 12,
   "id": "b8701750-7fb5-45d1-b3f0-9337539bb0ee",
   "metadata": {},
   "outputs": [
    {
     "name": "stdout",
     "output_type": "stream",
     "text": [
      "Model: \"sequential_1\"\n",
      "_________________________________________________________________\n",
      " Layer (type)                Output Shape              Param #   \n",
      "=================================================================\n",
      " conv2d_4 (Conv2D)           (None, 62, 62, 64)        1792      \n",
      "                                                                 \n",
      " conv2d_5 (Conv2D)           (None, 60, 60, 64)        36928     \n",
      "                                                                 \n",
      " max_pooling2d_2 (MaxPooling  (None, 30, 30, 64)       0         \n",
      " 2D)                                                             \n",
      "                                                                 \n",
      " conv2d_6 (Conv2D)           (None, 28, 28, 128)       73856     \n",
      "                                                                 \n",
      " conv2d_7 (Conv2D)           (None, 26, 26, 128)       147584    \n",
      "                                                                 \n",
      " max_pooling2d_3 (MaxPooling  (None, 13, 13, 128)      0         \n",
      " 2D)                                                             \n",
      "                                                                 \n",
      " flatten_1 (Flatten)         (None, 21632)             0         \n",
      "                                                                 \n",
      " dense_3 (Dense)             (None, 4096)              88608768  \n",
      "                                                                 \n",
      " dense_4 (Dense)             (None, 2048)              8390656   \n",
      "                                                                 \n",
      " dense_5 (Dense)             (None, 8)                 16392     \n",
      "                                                                 \n",
      "=================================================================\n",
      "Total params: 97,275,976\n",
      "Trainable params: 97,275,976\n",
      "Non-trainable params: 0\n",
      "_________________________________________________________________\n"
     ]
    }
   ],
   "source": [
    "from tensorflow.keras.optimizers import RMSprop, Adam\n",
    "\n",
    "model = tf.keras.models.Sequential([\n",
    "    tf.keras.layers.Conv2D(64, (3,3), activation='relu', input_shape=(64, 64, 3)),\n",
    "    tf.keras.layers.Conv2D(64, (3,3), activation='relu'),\n",
    "    tf.keras.layers.MaxPooling2D(2,2),\n",
    "    \n",
    "    tf.keras.layers.Conv2D(128, (3,3), activation='relu', input_shape=(64, 64, 3)),\n",
    "    tf.keras.layers.Conv2D(128, (3,3), activation='relu'),\n",
    "    tf.keras.layers.MaxPooling2D(2,2),\n",
    "    \n",
    "    tf.keras.layers.Flatten(),\n",
    "    \n",
    "    tf.keras.layers.Dense(4096, activation='relu'),\n",
    "    tf.keras.layers.Dense(2048, activation='relu'),\n",
    "    tf.keras.layers.Dense(8, activation='softmax')\n",
    "])\n",
    "\n",
    "\n",
    "model.summary()\n",
    "\n",
    "model.compile(loss = 'categorical_crossentropy', \n",
    "              optimizer=Adam(lr=0.0001), metrics=['accuracy'])"
   ]
  },
  {
   "cell_type": "code",
   "execution_count": 13,
   "id": "5ca04a92-25fb-4bd2-87d2-0ac6846fe44c",
   "metadata": {},
   "outputs": [
    {
     "name": "stdout",
     "output_type": "stream",
     "text": [
      "Epoch 1/10\n"
     ]
    },
    {
     "name": "stderr",
     "output_type": "stream",
     "text": [
      "\n",
      "User settings:\n",
      "\n",
      "   KMP_AFFINITY=granularity=fine,verbose,compact,1,0\n",
      "   KMP_BLOCKTIME=0\n",
      "   KMP_SETTINGS=1\n",
      "   OMP_NUM_THREADS=4\n",
      "\n",
      "Effective settings:\n",
      "\n",
      "   KMP_ABORT_DELAY=0\n",
      "   KMP_ADAPTIVE_LOCK_PROPS='1,1024'\n",
      "   KMP_ALIGN_ALLOC=64\n",
      "   KMP_ALL_THREADPRIVATE=128\n",
      "   KMP_ATOMIC_MODE=2\n",
      "   KMP_BLOCKTIME=0\n",
      "   KMP_CPUINFO_FILE: value is not defined\n",
      "   KMP_DETERMINISTIC_REDUCTION=false\n",
      "   KMP_DEVICE_THREAD_LIMIT=2147483647\n",
      "   KMP_DISP_NUM_BUFFERS=7\n",
      "   KMP_DUPLICATE_LIB_OK=false\n",
      "   KMP_ENABLE_TASK_THROTTLING=true\n",
      "   KMP_FORCE_REDUCTION: value is not defined\n",
      "   KMP_FOREIGN_THREADS_THREADPRIVATE=true\n",
      "   KMP_FORKJOIN_BARRIER='2,2'\n",
      "   KMP_FORKJOIN_BARRIER_PATTERN='hyper,hyper'\n",
      "   KMP_GTID_MODE=3\n",
      "   KMP_HANDLE_SIGNALS=false\n",
      "   KMP_HOT_TEAMS_MAX_LEVEL=1\n",
      "   KMP_HOT_TEAMS_MODE=0\n",
      "   KMP_INIT_AT_FORK=true\n",
      "   KMP_LIBRARY=throughput\n",
      "   KMP_LOCK_KIND=queuing\n",
      "   KMP_MALLOC_POOL_INCR=1M\n",
      "   KMP_NUM_LOCKS_IN_BLOCK=1\n",
      "   KMP_PLAIN_BARRIER='2,2'\n",
      "   KMP_PLAIN_BARRIER_PATTERN='hyper,hyper'\n",
      "   KMP_REDUCTION_BARRIER='1,1'\n",
      "   KMP_REDUCTION_BARRIER_PATTERN='hyper,hyper'\n",
      "   KMP_SCHEDULE='static,balanced;guided,iterative'\n",
      "   KMP_SETTINGS=true\n",
      "   KMP_SPIN_BACKOFF_PARAMS='4096,100'\n",
      "   KMP_STACKOFFSET=64\n",
      "   KMP_STACKPAD=0\n",
      "   KMP_STACKSIZE=8M\n",
      "   KMP_STORAGE_MAP=false\n",
      "   KMP_TASKING=2\n",
      "   KMP_TASKLOOP_MIN_TASKS=0\n",
      "   KMP_TASK_STEALING_CONSTRAINT=1\n",
      "   KMP_TEAMS_THREAD_LIMIT=4\n",
      "   KMP_TOPOLOGY_METHOD=all\n",
      "   KMP_USE_YIELD=1\n",
      "   KMP_VERSION=false\n",
      "   KMP_WARNINGS=true\n",
      "   OMP_AFFINITY_FORMAT='OMP: pid %P tid %i thread %n bound to OS proc set {%A}'\n",
      "   OMP_ALLOCATOR=omp_default_mem_alloc\n",
      "   OMP_CANCELLATION=false\n",
      "   OMP_DEFAULT_DEVICE=0\n",
      "   OMP_DISPLAY_AFFINITY=false\n",
      "   OMP_DISPLAY_ENV=false\n",
      "   OMP_DYNAMIC=false\n",
      "   OMP_MAX_ACTIVE_LEVELS=1\n",
      "   OMP_MAX_TASK_PRIORITY=0\n",
      "   OMP_NESTED: deprecated; max-active-levels-var=1\n",
      "   OMP_NUM_THREADS='4'\n",
      "   OMP_PLACES: value is not defined\n",
      "   OMP_PROC_BIND='intel'\n",
      "   OMP_SCHEDULE='static'\n",
      "   OMP_STACKSIZE=8M\n",
      "   OMP_TARGET_OFFLOAD=DEFAULT\n",
      "   OMP_THREAD_LIMIT=2147483647\n",
      "   OMP_WAIT_POLICY=PASSIVE\n",
      "   KMP_AFFINITY='verbose,warnings,respect,granularity=fine,compact,1,0'\n",
      "\n",
      "OMP: Info #211: KMP_AFFINITY: decoding x2APIC ids.\n",
      "OMP: Info #209: KMP_AFFINITY: Affinity capable, using global cpuid leaf 11 info\n",
      "OMP: Info #154: KMP_AFFINITY: Initial OS proc set respected: 0-3\n",
      "OMP: Info #156: KMP_AFFINITY: 4 available OS procs\n",
      "OMP: Info #157: KMP_AFFINITY: Uniform topology\n",
      "OMP: Info #179: KMP_AFFINITY: 1 packages x 2 cores/pkg x 2 threads/core (2 total cores)\n",
      "OMP: Info #213: KMP_AFFINITY: OS proc to physical thread map:\n",
      "OMP: Info #171: KMP_AFFINITY: OS proc 0 maps to package 0 core 0 thread 0 \n",
      "OMP: Info #171: KMP_AFFINITY: OS proc 2 maps to package 0 core 0 thread 1 \n",
      "OMP: Info #171: KMP_AFFINITY: OS proc 1 maps to package 0 core 1 thread 0 \n",
      "OMP: Info #171: KMP_AFFINITY: OS proc 3 maps to package 0 core 1 thread 1 \n",
      "OMP: Info #249: KMP_AFFINITY: pid 14882 tid 15084 thread 0 bound to OS proc set 0\n",
      "OMP: Info #249: KMP_AFFINITY: pid 14882 tid 15421 thread 2 bound to OS proc set 2\n",
      "OMP: Info #249: KMP_AFFINITY: pid 14882 tid 15420 thread 1 bound to OS proc set 1\n",
      "OMP: Info #249: KMP_AFFINITY: pid 14882 tid 15422 thread 3 bound to OS proc set 3\n",
      "OMP: Info #249: KMP_AFFINITY: pid 14882 tid 15083 thread 4 bound to OS proc set 0\n",
      "OMP: Info #249: KMP_AFFINITY: pid 14882 tid 15423 thread 5 bound to OS proc set 1\n",
      "OMP: Info #249: KMP_AFFINITY: pid 14882 tid 15424 thread 6 bound to OS proc set 2\n",
      "OMP: Info #249: KMP_AFFINITY: pid 14882 tid 15425 thread 7 bound to OS proc set 3\n"
     ]
    },
    {
     "name": "stdout",
     "output_type": "stream",
     "text": [
      "64/64 [==============================] - 40s 613ms/step - loss: 1.7116 - accuracy: 0.3185 - val_loss: 1.4151 - val_accuracy: 0.4581\n",
      "Epoch 2/10\n",
      "64/64 [==============================] - 40s 619ms/step - loss: 1.1469 - accuracy: 0.5503 - val_loss: 1.1874 - val_accuracy: 0.5484\n",
      "Epoch 3/10\n",
      "64/64 [==============================] - 39s 622ms/step - loss: 0.9268 - accuracy: 0.6484 - val_loss: 1.0403 - val_accuracy: 0.6000\n",
      "Epoch 4/10\n",
      "64/64 [==============================] - 39s 609ms/step - loss: 0.8369 - accuracy: 0.6775 - val_loss: 1.1732 - val_accuracy: 0.5742\n",
      "Epoch 5/10\n",
      "64/64 [==============================] - 39s 611ms/step - loss: 0.7889 - accuracy: 0.6803 - val_loss: 0.8873 - val_accuracy: 0.6645\n",
      "Epoch 6/10\n",
      "64/64 [==============================] - 40s 623ms/step - loss: 0.7242 - accuracy: 0.7022 - val_loss: 0.8084 - val_accuracy: 0.7161\n",
      "Epoch 7/10\n",
      "64/64 [==============================] - 39s 609ms/step - loss: 0.7209 - accuracy: 0.7171 - val_loss: 0.8882 - val_accuracy: 0.6968\n",
      "Epoch 8/10\n",
      "64/64 [==============================] - 40s 632ms/step - loss: 0.6688 - accuracy: 0.7515 - val_loss: 0.9764 - val_accuracy: 0.6129\n",
      "Epoch 9/10\n",
      "64/64 [==============================] - 38s 601ms/step - loss: 0.6665 - accuracy: 0.7550 - val_loss: 0.8776 - val_accuracy: 0.6774\n",
      "Epoch 10/10\n",
      "64/64 [==============================] - 40s 629ms/step - loss: 0.6309 - accuracy: 0.7406 - val_loss: 0.8869 - val_accuracy: 0.7161\n"
     ]
    }
   ],
   "source": [
    "history = model.fit(train_generator, \n",
    "                    epochs=10, \n",
    "                    shuffle=True,\n",
    "                    steps_per_epoch = 64,\n",
    "                    validation_data = validation_generator, \n",
    "                    verbose = 1)"
   ]
  },
  {
   "cell_type": "code",
   "execution_count": 12,
   "id": "bbff4d9e-33b8-483b-af99-e4ec0b0e3a33",
   "metadata": {},
   "outputs": [
    {
     "data": {
      "image/png": "[encoded data removed]",
      "text/plain": [
       "<Figure size 432x288 with 1 Axes>"
      ]
     },
     "metadata": {
      "needs_background": "light"
     },
     "output_type": "display_data"
    },
    {
     "data": {
      "text/plain": [
       "<Figure size 432x288 with 0 Axes>"
      ]
     },
     "metadata": {},
     "output_type": "display_data"
    }
   ],
   "source": [
    "acc = history.history['accuracy']\n",
    "val_acc = history.history['val_accuracy']\n",
    "loss = history.history['loss']\n",
    "val_loss = history.history['val_loss']\n",
    "\n",
    "epochs = range(len(acc))\n",
    "\n",
    "plt.plot(epochs, acc, 'b', label='Training accuracy')\n",
    "plt.plot(epochs, val_acc, 'r', label='Validation accuracy')\n",
    "plt.title('Training and validation accuracy')\n",
    "plt.legend(loc=0)\n",
    "plt.figure()\n",
    "\n",
    "\n",
    "plt.show()"
   ]
  },
  {
   "cell_type": "code",
   "execution_count": null,
   "id": "ec3c7c6d-be4c-4dd1-a489-bbfac5c520f2",
   "metadata": {},
   "outputs": [],
   "source": []
  }
 ],
 "metadata": {
  "environment": {
   "kernel": "python3",
   "name": "tf2-cpu.2-8.m91",
   "type": "gcloud",
   "uri": "gcr.io/deeplearning-platform-release/tf2-cpu.2-8:m91"
  },
  "kernelspec": {
   "display_name": "Python 3",
   "language": "python",
   "name": "python3"
  },
  "language_info": {
   "codemirror_mode": {
    "name": "ipython",
    "version": 3
   },
   "file_extension": ".py",
   "mimetype": "text/x-python",
   "name": "python",
   "nbconvert_exporter": "python",
   "pygments_lexer": "ipython3",
   "version": "3.7.12"
  }
 },
 "nbformat": 4,
 "nbformat_minor": 5
}
