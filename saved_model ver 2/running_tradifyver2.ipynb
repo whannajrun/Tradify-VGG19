{
 "cells": [
  {
   "cell_type": "code",
   "execution_count": 6,
   "id": "fddf72ae-8185-43ec-8e3f-86ba575b6220",
   "metadata": {},
   "outputs": [
    {
     "name": "stdout",
     "output_type": "stream",
     "text": [
      "Found 678 images belonging to 8 classes.\n",
      "Found 678 images belonging to 8 classes.\n",
      "Found 155 images belonging to 8 classes.\n",
      "Found 138 images belonging to 8 classes.\n"
     ]
    },
    {
     "name": "stderr",
     "output_type": "stream",
     "text": [
      "2022-06-06 18:29:10.010604: I tensorflow/core/platform/cpu_feature_guard.cc:151] This TensorFlow binary is optimized with oneAPI Deep Neural Network Library (oneDNN) to use the following CPU instructions in performance-critical operations:  AVX512F\n",
      "To enable them in other operations, rebuild TensorFlow with the appropriate compiler flags.\n",
      "2022-06-06 18:29:10.011567: I tensorflow/core/common_runtime/process_util.cc:146] Creating new thread pool with default inter op setting: 2. Tune using inter_op_parallelism_threads for best performance.\n",
      "/opt/conda/lib/python3.7/site-packages/keras/optimizer_v2/adam.py:105: UserWarning: The `lr` argument is deprecated, use `learning_rate` instead.\n",
      "  super(Adam, self).__init__(name, **kwargs)\n"
     ]
    },
    {
     "name": "stdout",
     "output_type": "stream",
     "text": [
      "Epoch 1/20\n"
     ]
    },
    {
     "name": "stderr",
     "output_type": "stream",
     "text": [
      "\n",
      "User settings:\n",
      "\n",
      "   KMP_AFFINITY=granularity=fine,verbose,compact,1,0\n",
      "   KMP_BLOCKTIME=0\n",
      "   KMP_SETTINGS=1\n",
      "   OMP_NUM_THREADS=4\n",
      "\n",
      "Effective settings:\n",
      "\n",
      "   KMP_ABORT_DELAY=0\n",
      "   KMP_ADAPTIVE_LOCK_PROPS='1,1024'\n",
      "   KMP_ALIGN_ALLOC=64\n",
      "   KMP_ALL_THREADPRIVATE=128\n",
      "   KMP_ATOMIC_MODE=2\n",
      "   KMP_BLOCKTIME=0\n",
      "   KMP_CPUINFO_FILE: value is not defined\n",
      "   KMP_DETERMINISTIC_REDUCTION=false\n",
      "   KMP_DEVICE_THREAD_LIMIT=2147483647\n",
      "   KMP_DISP_NUM_BUFFERS=7\n",
      "   KMP_DUPLICATE_LIB_OK=false\n",
      "   KMP_ENABLE_TASK_THROTTLING=true\n",
      "   KMP_FORCE_REDUCTION: value is not defined\n",
      "   KMP_FOREIGN_THREADS_THREADPRIVATE=true\n",
      "   KMP_FORKJOIN_BARRIER='2,2'\n",
      "   KMP_FORKJOIN_BARRIER_PATTERN='hyper,hyper'\n",
      "   KMP_GTID_MODE=3\n",
      "   KMP_HANDLE_SIGNALS=false\n",
      "   KMP_HOT_TEAMS_MAX_LEVEL=1\n",
      "   KMP_HOT_TEAMS_MODE=0\n",
      "   KMP_INIT_AT_FORK=true\n",
      "   KMP_LIBRARY=throughput\n",
      "   KMP_LOCK_KIND=queuing\n",
      "   KMP_MALLOC_POOL_INCR=1M\n",
      "   KMP_NUM_LOCKS_IN_BLOCK=1\n",
      "   KMP_PLAIN_BARRIER='2,2'\n",
      "   KMP_PLAIN_BARRIER_PATTERN='hyper,hyper'\n",
      "   KMP_REDUCTION_BARRIER='1,1'\n",
      "   KMP_REDUCTION_BARRIER_PATTERN='hyper,hyper'\n",
      "   KMP_SCHEDULE='static,balanced;guided,iterative'\n",
      "   KMP_SETTINGS=true\n",
      "   KMP_SPIN_BACKOFF_PARAMS='4096,100'\n",
      "   KMP_STACKOFFSET=64\n",
      "   KMP_STACKPAD=0\n",
      "   KMP_STACKSIZE=8M\n",
      "   KMP_STORAGE_MAP=false\n",
      "   KMP_TASKING=2\n",
      "   KMP_TASKLOOP_MIN_TASKS=0\n",
      "   KMP_TASK_STEALING_CONSTRAINT=1\n",
      "   KMP_TEAMS_THREAD_LIMIT=4\n",
      "   KMP_TOPOLOGY_METHOD=all\n",
      "   KMP_USE_YIELD=1\n",
      "   KMP_VERSION=false\n",
      "   KMP_WARNINGS=true\n",
      "   OMP_AFFINITY_FORMAT='OMP: pid %P tid %i thread %n bound to OS proc set {%A}'\n",
      "   OMP_ALLOCATOR=omp_default_mem_alloc\n",
      "   OMP_CANCELLATION=false\n",
      "   OMP_DEFAULT_DEVICE=0\n",
      "   OMP_DISPLAY_AFFINITY=false\n",
      "   OMP_DISPLAY_ENV=false\n",
      "   OMP_DYNAMIC=false\n",
      "   OMP_MAX_ACTIVE_LEVELS=1\n",
      "   OMP_MAX_TASK_PRIORITY=0\n",
      "   OMP_NESTED: deprecated; max-active-levels-var=1\n",
      "   OMP_NUM_THREADS='4'\n",
      "   OMP_PLACES: value is not defined\n",
      "   OMP_PROC_BIND='intel'\n",
      "   OMP_SCHEDULE='static'\n",
      "   OMP_STACKSIZE=8M\n",
      "   OMP_TARGET_OFFLOAD=DEFAULT\n",
      "   OMP_THREAD_LIMIT=2147483647\n",
      "   OMP_WAIT_POLICY=PASSIVE\n",
      "   KMP_AFFINITY='verbose,warnings,respect,granularity=fine,compact,1,0'\n",
      "\n",
      "OMP: Info #211: KMP_AFFINITY: decoding x2APIC ids.\n",
      "OMP: Info #209: KMP_AFFINITY: Affinity capable, using global cpuid leaf 11 info\n",
      "OMP: Info #154: KMP_AFFINITY: Initial OS proc set respected: 0-3\n",
      "OMP: Info #156: KMP_AFFINITY: 4 available OS procs\n",
      "OMP: Info #157: KMP_AFFINITY: Uniform topology\n",
      "OMP: Info #179: KMP_AFFINITY: 1 packages x 2 cores/pkg x 2 threads/core (2 total cores)\n",
      "OMP: Info #213: KMP_AFFINITY: OS proc to physical thread map:\n",
      "OMP: Info #171: KMP_AFFINITY: OS proc 0 maps to package 0 core 0 thread 0 \n",
      "OMP: Info #171: KMP_AFFINITY: OS proc 2 maps to package 0 core 0 thread 1 \n",
      "OMP: Info #171: KMP_AFFINITY: OS proc 1 maps to package 0 core 1 thread 0 \n",
      "OMP: Info #171: KMP_AFFINITY: OS proc 3 maps to package 0 core 1 thread 1 \n",
      "OMP: Info #249: KMP_AFFINITY: pid 2231 tid 5109 thread 0 bound to OS proc set 0\n",
      "OMP: Info #249: KMP_AFFINITY: pid 2231 tid 5118 thread 1 bound to OS proc set 1\n",
      "OMP: Info #249: KMP_AFFINITY: pid 2231 tid 5119 thread 2 bound to OS proc set 2\n",
      "OMP: Info #249: KMP_AFFINITY: pid 2231 tid 5120 thread 3 bound to OS proc set 3\n"
     ]
    },
    {
     "name": "stdout",
     "output_type": "stream",
     "text": [
      " 1/64 [..............................] - ETA: 1:09 - loss: 20.7761 - accuracy: 0.0000e+00"
     ]
    },
    {
     "name": "stderr",
     "output_type": "stream",
     "text": [
      "OMP: Info #249: KMP_AFFINITY: pid 2231 tid 5108 thread 4 bound to OS proc set 0\n",
      "OMP: Info #249: KMP_AFFINITY: pid 2231 tid 5122 thread 6 bound to OS proc set 2\n",
      "OMP: Info #249: KMP_AFFINITY: pid 2231 tid 5121 thread 5 bound to OS proc set 1\n",
      "OMP: Info #249: KMP_AFFINITY: pid 2231 tid 5123 thread 7 bound to OS proc set 3\n"
     ]
    },
    {
     "name": "stdout",
     "output_type": "stream",
     "text": [
      "64/64 [==============================] - 29s 446ms/step - loss: 6.0903 - accuracy: 0.3974 - val_loss: 2.3076 - val_accuracy: 0.6581\n",
      "Epoch 2/20\n",
      "64/64 [==============================] - 28s 438ms/step - loss: 2.1316 - accuracy: 0.6529 - val_loss: 1.9229 - val_accuracy: 0.7226\n",
      "Epoch 3/20\n",
      "64/64 [==============================] - 28s 437ms/step - loss: 1.6130 - accuracy: 0.7131 - val_loss: 1.2272 - val_accuracy: 0.7935\n",
      "Epoch 4/20\n",
      "64/64 [==============================] - 28s 440ms/step - loss: 1.2579 - accuracy: 0.7515 - val_loss: 1.1772 - val_accuracy: 0.7742\n",
      "Epoch 5/20\n",
      "64/64 [==============================] - 27s 424ms/step - loss: 0.9376 - accuracy: 0.7938 - val_loss: 1.3389 - val_accuracy: 0.7226\n",
      "Epoch 6/20\n",
      "64/64 [==============================] - 28s 447ms/step - loss: 0.8046 - accuracy: 0.8136 - val_loss: 0.9909 - val_accuracy: 0.8129\n",
      "Epoch 7/20\n",
      "64/64 [==============================] - 27s 428ms/step - loss: 0.7801 - accuracy: 0.7998 - val_loss: 0.8089 - val_accuracy: 0.8129\n",
      "Epoch 8/20\n",
      "64/64 [==============================] - 28s 445ms/step - loss: 0.7768 - accuracy: 0.8126 - val_loss: 0.8818 - val_accuracy: 0.7806\n",
      "Epoch 9/20\n",
      "64/64 [==============================] - 27s 430ms/step - loss: 0.6217 - accuracy: 0.8227 - val_loss: 0.6957 - val_accuracy: 0.8194\n",
      "Epoch 10/20\n",
      "64/64 [==============================] - 28s 441ms/step - loss: 0.5583 - accuracy: 0.8501 - val_loss: 0.6258 - val_accuracy: 0.8387\n",
      "Epoch 11/20\n",
      "64/64 [==============================] - 28s 436ms/step - loss: 0.5848 - accuracy: 0.8357 - val_loss: 0.4845 - val_accuracy: 0.8581\n",
      "Epoch 12/20\n",
      "64/64 [==============================] - 28s 443ms/step - loss: 0.4762 - accuracy: 0.8639 - val_loss: 0.6992 - val_accuracy: 0.8323\n",
      "Epoch 13/20\n",
      "64/64 [==============================] - 27s 429ms/step - loss: 0.4664 - accuracy: 0.8655 - val_loss: 0.6186 - val_accuracy: 0.8129\n",
      "Epoch 14/20\n",
      "64/64 [==============================] - 28s 445ms/step - loss: 0.4584 - accuracy: 0.8708 - val_loss: 0.6273 - val_accuracy: 0.8323\n",
      "Epoch 15/20\n",
      "64/64 [==============================] - 28s 436ms/step - loss: 0.3503 - accuracy: 0.8924 - val_loss: 0.6387 - val_accuracy: 0.8323\n",
      "Epoch 16/20\n",
      "64/64 [==============================] - 27s 426ms/step - loss: 0.3789 - accuracy: 0.8945 - val_loss: 0.5966 - val_accuracy: 0.8258\n",
      "Epoch 17/20\n",
      "64/64 [==============================] - 28s 432ms/step - loss: 0.3819 - accuracy: 0.8855 - val_loss: 0.4858 - val_accuracy: 0.8774\n",
      "Epoch 18/20\n",
      "64/64 [==============================] - 29s 449ms/step - loss: 0.3078 - accuracy: 0.9004 - val_loss: 0.4556 - val_accuracy: 0.8903\n",
      "Epoch 19/20\n",
      "64/64 [==============================] - 27s 426ms/step - loss: 0.3966 - accuracy: 0.8865 - val_loss: 0.5447 - val_accuracy: 0.8323\n",
      "Epoch 20/20\n",
      "64/64 [==============================] - 28s 436ms/step - loss: 0.3593 - accuracy: 0.9014 - val_loss: 0.5066 - val_accuracy: 0.8258\n",
      "9/9 [==============================] - 2s 237ms/step - loss: 0.9761 - accuracy: 0.8261\n"
     ]
    },
    {
     "name": "stderr",
     "output_type": "stream",
     "text": [
      "2022-06-06 18:38:30.914079: W tensorflow/python/util/util.cc:368] Sets are not currently considered sequences, but this may change in the future, so consider avoiding using them.\n"
     ]
    },
    {
     "name": "stdout",
     "output_type": "stream",
     "text": [
      "INFO:tensorflow:Assets written to: ./model2_frompy/model/saved_model2/assets\n"
     ]
    },
    {
     "name": "stderr",
     "output_type": "stream",
     "text": [
      "WARNING:absl:Optimization option OPTIMIZE_FOR_LATENCY is deprecated, please use optimizations=[Optimize.DEFAULT] instead.\n",
      "WARNING:absl:Optimization option OPTIMIZE_FOR_LATENCY is deprecated, please use optimizations=[Optimize.DEFAULT] instead.\n",
      "WARNING:absl:Optimization option OPTIMIZE_FOR_LATENCY is deprecated, please use optimizations=[Optimize.DEFAULT] instead.\n",
      "2022-06-06 18:38:32.196660: W tensorflow/compiler/mlir/lite/python/tf_tfl_flatbuffer_helpers.cc:357] Ignored output_format.\n",
      "2022-06-06 18:38:32.196696: W tensorflow/compiler/mlir/lite/python/tf_tfl_flatbuffer_helpers.cc:360] Ignored drop_control_dependency.\n",
      "WARNING:absl:Buffer deduplication procedure will be skipped when flatbuffer library is not properly loaded\n",
      "2022-06-06 18:38:32.198352: I tensorflow/cc/saved_model/reader.cc:43] Reading SavedModel from: ./model2_frompy/model/saved_model2\n",
      "2022-06-06 18:38:32.201764: I tensorflow/cc/saved_model/reader.cc:78] Reading meta graph with tags { serve }\n",
      "2022-06-06 18:38:32.201788: I tensorflow/cc/saved_model/reader.cc:119] Reading SavedModel debug info (if present) from: ./model2_frompy/model/saved_model2\n",
      "2022-06-06 18:38:32.202878: I tensorflow/core/common_runtime/process_util.cc:146] Creating new thread pool with default inter op setting: 2. Tune using inter_op_parallelism_threads for best performance.\n",
      "2022-06-06 18:38:32.211761: I tensorflow/cc/saved_model/loader.cc:228] Restoring SavedModel bundle.\n",
      "2022-06-06 18:38:32.318242: I tensorflow/cc/saved_model/loader.cc:212] Running initialization op on SavedModel bundle at path: ./model2_frompy/model/saved_model2\n",
      "2022-06-06 18:38:32.342319: I tensorflow/cc/saved_model/loader.cc:301] SavedModel load for tags { serve }; Status: success: OK. Took 143971 microseconds.\n",
      "2022-06-06 18:38:32.462203: I tensorflow/compiler/mlir/tensorflow/utils/dump_mlir_util.cc:237] disabling MLIR crash reproducer, set env var `MLIR_CRASH_REPRODUCER_DIRECTORY` to enable.\n",
      "2022-06-06 18:38:32.538998: I tensorflow/core/common_runtime/process_util.cc:146] Creating new thread pool with default inter op setting: 2. Tune using inter_op_parallelism_threads for best performance.\n"
     ]
    },
    {
     "name": "stdout",
     "output_type": "stream",
     "text": [
      "9/9 [==============================] - 2s 238ms/step - loss: 0.9761 - accuracy: 0.8261\n"
     ]
    }
   ],
   "source": [
    "%run tradify_vgg19py.py"
   ]
  },
  {
   "cell_type": "code",
   "execution_count": 7,
   "id": "2eb04bb8-0890-436c-b499-c74953c78c9a",
   "metadata": {},
   "outputs": [],
   "source": [
    "!tensorflowjs_converter --input_format=keras \"./model2.h5\" ./"
   ]
  },
  {
   "cell_type": "code",
   "execution_count": null,
   "id": "8a81d2fe-53bb-4272-af74-c76c1833d4ee",
   "metadata": {},
   "outputs": [],
   "source": []
  }
 ],
 "metadata": {
  "environment": {
   "kernel": "python3",
   "name": "tf2-cpu.2-8.m91",
   "type": "gcloud",
   "uri": "gcr.io/deeplearning-platform-release/tf2-cpu.2-8:m91"
  },
  "kernelspec": {
   "display_name": "Python 3",
   "language": "python",
   "name": "python3"
  },
  "language_info": {
   "codemirror_mode": {
    "name": "ipython",
    "version": 3
   },
   "file_extension": ".py",
   "mimetype": "text/x-python",
   "name": "python",
   "nbconvert_exporter": "python",
   "pygments_lexer": "ipython3",
   "version": "3.7.12"
  }
 },
 "nbformat": 4,
 "nbformat_minor": 5
}
